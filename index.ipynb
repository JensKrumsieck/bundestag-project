{
 "cells": [
  {
   "cell_type": "code",
   "execution_count": null,
   "metadata": {},
   "outputs": [],
   "source": [
    "! pip install plotnine\n"
   ]
  },
  {
   "cell_type": "code",
   "execution_count": null,
   "metadata": {},
   "outputs": [],
   "source": [
    "import pandas as pd\n",
    "from plotnine import *\n"
   ]
  },
  {
   "cell_type": "markdown",
   "metadata": {},
   "source": [
    "### Read and preprocess data\n"
   ]
  },
  {
   "cell_type": "code",
   "execution_count": null,
   "metadata": {},
   "outputs": [],
   "source": [
    "df = pd.read_csv(\"./data/20_data.csv\", sep=\";\")\n",
    "df.replace(\"BÜ90/GR\", \"BÜNDNIS`90/DIE GRÜNEN\", inplace=True)\n",
    "df.replace(\"DIE LINKE\", \"DIE LINKE.\", inplace=True)\n",
    "df.drop(\"Unnamed: 0\", axis=1, inplace=True)  # index col\n",
    "df.head()\n"
   ]
  },
  {
   "cell_type": "markdown",
   "metadata": {},
   "source": [
    "Remove city information and only use 1st firstname\n"
   ]
  },
  {
   "cell_type": "code",
   "execution_count": null,
   "metadata": {},
   "outputs": [],
   "source": [
    "df[\"Name\"] = df[\"Name\"].map(lambda x: x.split(\"(\")[0])\n",
    "df[\"Vorname\"] = df[\"Vorname\"].map(lambda x: x.split(\" \")[0])\n",
    "df.shape\n"
   ]
  },
  {
   "cell_type": "markdown",
   "metadata": {},
   "source": [
    "If someone switched fraction, merge values\n"
   ]
  },
  {
   "cell_type": "code",
   "execution_count": null,
   "metadata": {},
   "outputs": [],
   "source": [
    "df = df.groupby([\"Name\", \"Vorname\"]).apply(lambda x: x.ffill().bfill()).drop_duplicates(subset=[\"Name\", \"Vorname\"]).reset_index().drop(\"index\", axis=1)\n",
    "df.shape\n"
   ]
  },
  {
   "cell_type": "markdown",
   "metadata": {},
   "source": [
    "### Pipeline\n"
   ]
  },
  {
   "cell_type": "markdown",
   "metadata": {},
   "source": [
    "allowed values for votes: \"Ja\" = _yes_, \"Nein\" = _no_, \"Enthaltung\" = _abstention_, \"Ungültig\" = _invalid_, \"Abwesend\" = _not voted_ or NaN\n"
   ]
  },
  {
   "cell_type": "markdown",
   "metadata": {},
   "source": [
    "Columns containing the votes are named with the following scheme: {Period}-{Session}-{Poll}\n"
   ]
  },
  {
   "cell_type": "code",
   "execution_count": null,
   "metadata": {},
   "outputs": [],
   "source": [
    "vote_cols = [c for c in df.columns if \"-\" in c]\n"
   ]
  },
  {
   "cell_type": "code",
   "execution_count": null,
   "metadata": {},
   "outputs": [],
   "source": [
    "from sklearn.pipeline import Pipeline\n",
    "from sklearn.impute import SimpleImputer\n",
    "from sklearn.preprocessing import OneHotEncoder\n",
    "from sklearn.compose import ColumnTransformer\n",
    "from sklearn.manifold import TSNE\n"
   ]
  },
  {
   "cell_type": "code",
   "execution_count": null,
   "metadata": {},
   "outputs": [],
   "source": [
    "preprocess = ColumnTransformer(\n",
    "    transformers=[\n",
    "        (\"preprocess_vote\", Pipeline(\n",
    "            steps=[\n",
    "                ('imputer', SimpleImputer(strategy=\"constant\", fill_value=\"Abwesend\")),\n",
    "                ('onehot', OneHotEncoder())\n",
    "            ]\n",
    "        ), vote_cols)\n",
    "    ],\n",
    "    sparse_threshold=0)\n",
    "df_preprocessed = preprocess.fit_transform(df)\n"
   ]
  },
  {
   "cell_type": "markdown",
   "metadata": {},
   "source": [
    "Use tSNE for Visualization\n"
   ]
  },
  {
   "cell_type": "code",
   "execution_count": null,
   "metadata": {},
   "outputs": [],
   "source": [
    "\n",
    "tsne = TSNE(n_components=2)\n",
    "mapping = tsne.fit_transform(df_preprocessed)\n"
   ]
  },
  {
   "cell_type": "code",
   "execution_count": null,
   "metadata": {},
   "outputs": [],
   "source": [
    "df_mapping = pd.DataFrame(mapping, columns=[\"x\", \"y\"])\n",
    "df_mapping[\"name\"] = df[\"Vorname\"] + \" \" + df[\"Name\"]\n",
    "df_mapping[\"party\"] = df[\"Fraktion/Gruppe\"]\n",
    "df_mapping.head(20)\n"
   ]
  },
  {
   "cell_type": "code",
   "execution_count": null,
   "metadata": {},
   "outputs": [],
   "source": [
    "colors = {\n",
    "    \"AfD\": '#009ee0',\n",
    "    \"FDP\": '#ffff00',\n",
    "    \"CDU/CSU\": '#000000',\n",
    "    \"SPD\": '#E3000F',\n",
    "    \"BÜNDNIS`90/DIE GRÜNEN\": '#46962b',\n",
    "    \"DIE LINKE.\": '#BE3075',\n",
    "    \"Fraktionslos\": \"#333333\"\n",
    "}\n"
   ]
  },
  {
   "cell_type": "code",
   "execution_count": null,
   "metadata": {},
   "outputs": [],
   "source": [
    "ggplot(df_mapping, aes(x=\"x\", y=\"y\", label=\"name\")) + geom_point(aes(colour=\"party\")) + scale_color_manual(values=colors)\n"
   ]
  }
 ],
 "metadata": {
  "interpreter": {
   "hash": "96eb50e1d44aed467dc8f759cb08c32fbfa9babcf79c554e2d0e5feb04653a10"
  },
  "kernelspec": {
   "display_name": "Python 3.9.7 ('base')",
   "language": "python",
   "name": "python3"
  },
  "language_info": {
   "codemirror_mode": {
    "name": "ipython",
    "version": 3
   },
   "file_extension": ".py",
   "mimetype": "text/x-python",
   "name": "python",
   "nbconvert_exporter": "python",
   "pygments_lexer": "ipython3",
   "version": "3.9.7"
  },
  "orig_nbformat": 4
 },
 "nbformat": 4,
 "nbformat_minor": 2
}
