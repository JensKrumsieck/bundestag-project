{
 "cells": [
  {
   "cell_type": "code",
   "execution_count": 27,
   "metadata": {},
   "outputs": [
    {
     "name": "stdout",
     "output_type": "stream",
     "text": [
      "Requirement already satisfied: plotnine in e:\\anaconda\\lib\\site-packages (0.8.0)\n",
      "Requirement already satisfied: mizani>=0.7.3 in e:\\anaconda\\lib\\site-packages (from plotnine) (0.7.3)\n",
      "Requirement already satisfied: statsmodels>=0.12.1 in e:\\anaconda\\lib\\site-packages (from plotnine) (0.12.2)\n",
      "Requirement already satisfied: patsy>=0.5.1 in e:\\anaconda\\lib\\site-packages (from plotnine) (0.5.2)\n",
      "Requirement already satisfied: descartes>=1.1.0 in e:\\anaconda\\lib\\site-packages (from plotnine) (1.1.0)\n",
      "Requirement already satisfied: matplotlib>=3.1.1 in e:\\anaconda\\lib\\site-packages (from plotnine) (3.4.3)\n",
      "Requirement already satisfied: pandas>=1.1.0 in e:\\anaconda\\lib\\site-packages (from plotnine) (1.3.4)\n",
      "Requirement already satisfied: numpy>=1.19.0 in e:\\anaconda\\lib\\site-packages (from plotnine) (1.20.3)\n",
      "Requirement already satisfied: scipy>=1.5.0 in e:\\anaconda\\lib\\site-packages (from plotnine) (1.7.1)\n",
      "Requirement already satisfied: pyparsing>=2.2.1 in e:\\anaconda\\lib\\site-packages (from matplotlib>=3.1.1->plotnine) (3.0.4)\n",
      "Requirement already satisfied: python-dateutil>=2.7 in e:\\anaconda\\lib\\site-packages (from matplotlib>=3.1.1->plotnine) (2.8.2)\n",
      "Requirement already satisfied: pillow>=6.2.0 in e:\\anaconda\\lib\\site-packages (from matplotlib>=3.1.1->plotnine) (8.4.0)\n",
      "Requirement already satisfied: kiwisolver>=1.0.1 in e:\\anaconda\\lib\\site-packages (from matplotlib>=3.1.1->plotnine) (1.3.1)\n",
      "Requirement already satisfied: cycler>=0.10 in e:\\anaconda\\lib\\site-packages (from matplotlib>=3.1.1->plotnine) (0.10.0)\n",
      "Requirement already satisfied: six in e:\\anaconda\\lib\\site-packages (from cycler>=0.10->matplotlib>=3.1.1->plotnine) (1.16.0)\n",
      "Requirement already satisfied: palettable in e:\\anaconda\\lib\\site-packages (from mizani>=0.7.3->plotnine) (3.3.0)\n",
      "Requirement already satisfied: pytz>=2017.3 in e:\\anaconda\\lib\\site-packages (from pandas>=1.1.0->plotnine) (2021.3)\n"
     ]
    }
   ],
   "source": [
    "! pip install plotnine\n"
   ]
  },
  {
   "cell_type": "code",
   "execution_count": 28,
   "metadata": {},
   "outputs": [],
   "source": [
    "import pandas as pd\n",
    "from plotnine import *\n"
   ]
  },
  {
   "cell_type": "markdown",
   "metadata": {},
   "source": [
    "### Read and preprocess data\n"
   ]
  },
  {
   "cell_type": "code",
   "execution_count": 39,
   "metadata": {},
   "outputs": [
    {
     "data": {
      "text/html": [
       "<div>\n",
       "<style scoped>\n",
       "    .dataframe tbody tr th:only-of-type {\n",
       "        vertical-align: middle;\n",
       "    }\n",
       "\n",
       "    .dataframe tbody tr th {\n",
       "        vertical-align: top;\n",
       "    }\n",
       "\n",
       "    .dataframe thead th {\n",
       "        text-align: right;\n",
       "    }\n",
       "</style>\n",
       "<table border=\"1\" class=\"dataframe\">\n",
       "  <thead>\n",
       "    <tr style=\"text-align: right;\">\n",
       "      <th></th>\n",
       "      <th>Name</th>\n",
       "      <th>Vorname</th>\n",
       "      <th>Fraktion/Gruppe</th>\n",
       "      <th>20-003-01</th>\n",
       "      <th>20-003-02</th>\n",
       "      <th>20-007-01</th>\n",
       "      <th>20-007-02</th>\n",
       "      <th>20-014-02</th>\n",
       "      <th>20-014-03</th>\n",
       "      <th>20-015-01</th>\n",
       "      <th>20-021-01</th>\n",
       "      <th>20-022-01</th>\n",
       "      <th>20-022-02</th>\n",
       "      <th>20-022-03</th>\n",
       "    </tr>\n",
       "  </thead>\n",
       "  <tbody>\n",
       "    <tr>\n",
       "      <th>0</th>\n",
       "      <td>Aumer</td>\n",
       "      <td>Peter</td>\n",
       "      <td>CDU/CSU</td>\n",
       "      <td>Nein</td>\n",
       "      <td>Ja</td>\n",
       "      <td>Nein</td>\n",
       "      <td>Ja</td>\n",
       "      <td>Nein</td>\n",
       "      <td>Nein</td>\n",
       "      <td>Ja</td>\n",
       "      <td>Ja</td>\n",
       "      <td>Nein</td>\n",
       "      <td>Ja</td>\n",
       "      <td>Ja</td>\n",
       "    </tr>\n",
       "    <tr>\n",
       "      <th>1</th>\n",
       "      <td>Bär</td>\n",
       "      <td>Dorothee</td>\n",
       "      <td>CDU/CSU</td>\n",
       "      <td>Nein</td>\n",
       "      <td>Ja</td>\n",
       "      <td>Nein</td>\n",
       "      <td>Ja</td>\n",
       "      <td>Nein</td>\n",
       "      <td>Nein</td>\n",
       "      <td>Abwesend</td>\n",
       "      <td>Ja</td>\n",
       "      <td>Abwesend</td>\n",
       "      <td>Abwesend</td>\n",
       "      <td>Abwesend</td>\n",
       "    </tr>\n",
       "    <tr>\n",
       "      <th>2</th>\n",
       "      <td>Bareiß</td>\n",
       "      <td>Thomas</td>\n",
       "      <td>CDU/CSU</td>\n",
       "      <td>Nein</td>\n",
       "      <td>Ja</td>\n",
       "      <td>Nein</td>\n",
       "      <td>Ja</td>\n",
       "      <td>Nein</td>\n",
       "      <td>Nein</td>\n",
       "      <td>Ja</td>\n",
       "      <td>Ja</td>\n",
       "      <td>Nein</td>\n",
       "      <td>Ja</td>\n",
       "      <td>Ja</td>\n",
       "    </tr>\n",
       "    <tr>\n",
       "      <th>3</th>\n",
       "      <td>Beyer</td>\n",
       "      <td>Peter</td>\n",
       "      <td>CDU/CSU</td>\n",
       "      <td>Abwesend</td>\n",
       "      <td>Abwesend</td>\n",
       "      <td>Nein</td>\n",
       "      <td>Ja</td>\n",
       "      <td>Nein</td>\n",
       "      <td>Nein</td>\n",
       "      <td>Ja</td>\n",
       "      <td>Ja</td>\n",
       "      <td>Nein</td>\n",
       "      <td>Ja</td>\n",
       "      <td>Ja</td>\n",
       "    </tr>\n",
       "    <tr>\n",
       "      <th>4</th>\n",
       "      <td>Bilger</td>\n",
       "      <td>Steffen</td>\n",
       "      <td>CDU/CSU</td>\n",
       "      <td>Nein</td>\n",
       "      <td>Ja</td>\n",
       "      <td>Nein</td>\n",
       "      <td>Ja</td>\n",
       "      <td>Nein</td>\n",
       "      <td>Nein</td>\n",
       "      <td>Ja</td>\n",
       "      <td>Ja</td>\n",
       "      <td>Nein</td>\n",
       "      <td>Ja</td>\n",
       "      <td>Ja</td>\n",
       "    </tr>\n",
       "  </tbody>\n",
       "</table>\n",
       "</div>"
      ],
      "text/plain": [
       "     Name   Vorname Fraktion/Gruppe 20-003-01 20-003-02 20-007-01 20-007-02  \\\n",
       "0   Aumer     Peter         CDU/CSU      Nein        Ja      Nein        Ja   \n",
       "1     Bär  Dorothee         CDU/CSU      Nein        Ja      Nein        Ja   \n",
       "2  Bareiß    Thomas         CDU/CSU      Nein        Ja      Nein        Ja   \n",
       "3   Beyer     Peter         CDU/CSU  Abwesend  Abwesend      Nein        Ja   \n",
       "4  Bilger   Steffen         CDU/CSU      Nein        Ja      Nein        Ja   \n",
       "\n",
       "  20-014-02 20-014-03 20-015-01 20-021-01 20-022-01 20-022-02 20-022-03  \n",
       "0      Nein      Nein        Ja        Ja      Nein        Ja        Ja  \n",
       "1      Nein      Nein  Abwesend        Ja  Abwesend  Abwesend  Abwesend  \n",
       "2      Nein      Nein        Ja        Ja      Nein        Ja        Ja  \n",
       "3      Nein      Nein        Ja        Ja      Nein        Ja        Ja  \n",
       "4      Nein      Nein        Ja        Ja      Nein        Ja        Ja  "
      ]
     },
     "execution_count": 39,
     "metadata": {},
     "output_type": "execute_result"
    }
   ],
   "source": [
    "df = pd.read_csv(\"./data/20_data.csv\", sep=\";\")\n",
    "df.replace(\"BÜ90/GR\", \"BÜNDNIS`90/DIE GRÜNEN\", inplace=True)\n",
    "df.replace(\"DIE LINKE\", \"DIE LINKE.\", inplace=True)\n",
    "df.drop(\"Unnamed: 0\", axis=1, inplace=True)  # index col\n",
    "df.head()\n"
   ]
  },
  {
   "cell_type": "markdown",
   "metadata": {},
   "source": [
    "Remove city information and only use 1st firstname\n"
   ]
  },
  {
   "cell_type": "code",
   "execution_count": 30,
   "metadata": {},
   "outputs": [
    {
     "data": {
      "text/plain": [
       "(742, 14)"
      ]
     },
     "execution_count": 30,
     "metadata": {},
     "output_type": "execute_result"
    }
   ],
   "source": [
    "df[\"Name\"] = df[\"Name\"].map(lambda x: x.split(\"(\")[0])\n",
    "df[\"Vorname\"] = df[\"Vorname\"].map(lambda x: x.split(\" \")[0])\n",
    "df.shape\n"
   ]
  },
  {
   "cell_type": "markdown",
   "metadata": {},
   "source": [
    "If someone switched fraction, merge values\n"
   ]
  },
  {
   "cell_type": "code",
   "execution_count": 31,
   "metadata": {},
   "outputs": [
    {
     "data": {
      "text/plain": [
       "(739, 14)"
      ]
     },
     "execution_count": 31,
     "metadata": {},
     "output_type": "execute_result"
    }
   ],
   "source": [
    "df = df.groupby([\"Name\", \"Vorname\"]).apply(lambda x: x.ffill().bfill()).drop_duplicates(subset=[\"Name\", \"Vorname\"]).reset_index().drop(\"index\", axis=1)\n",
    "df.shape\n"
   ]
  },
  {
   "cell_type": "markdown",
   "metadata": {},
   "source": [
    "### Pipeline\n"
   ]
  },
  {
   "cell_type": "markdown",
   "metadata": {},
   "source": [
    "allowed values for votes: \"Ja\" = _yes_, \"Nein\" = _no_, \"Enthaltung\" = _abstention_, \"Ungültig\" = _invalid_, \"Abwesend\" = _not voted_ or NaN\n"
   ]
  },
  {
   "cell_type": "markdown",
   "metadata": {},
   "source": [
    "Columns containing the votes are named with the following scheme: {Period}-{Session}-{Poll}\n"
   ]
  },
  {
   "cell_type": "code",
   "execution_count": 32,
   "metadata": {},
   "outputs": [],
   "source": [
    "vote_cols = [c for c in df.columns if \"-\" in c]\n"
   ]
  },
  {
   "cell_type": "code",
   "execution_count": 33,
   "metadata": {},
   "outputs": [],
   "source": [
    "from sklearn.pipeline import Pipeline\n",
    "from sklearn.impute import SimpleImputer\n",
    "from sklearn.preprocessing import OneHotEncoder\n",
    "from sklearn.compose import ColumnTransformer\n",
    "from sklearn.manifold import TSNE\n"
   ]
  },
  {
   "cell_type": "code",
   "execution_count": 1,
   "metadata": {},
   "outputs": [
    {
     "ename": "NameError",
     "evalue": "name 'ColumnTransformer' is not defined",
     "output_type": "error",
     "traceback": [
      "\u001b[1;31m---------------------------------------------------------------------------\u001b[0m",
      "\u001b[1;31mNameError\u001b[0m                                 Traceback (most recent call last)",
      "\u001b[1;32m~\\AppData\\Local\\Temp/ipykernel_2548/1641719472.py\u001b[0m in \u001b[0;36m<module>\u001b[1;34m\u001b[0m\n\u001b[1;32m----> 1\u001b[1;33m preprocess = ColumnTransformer(\n\u001b[0m\u001b[0;32m      2\u001b[0m     transformers=[\n\u001b[0;32m      3\u001b[0m         (\"preprocess_vote\", Pipeline(\n\u001b[0;32m      4\u001b[0m             steps=[\n\u001b[0;32m      5\u001b[0m                 \u001b[1;33m(\u001b[0m\u001b[1;34m'imputer'\u001b[0m\u001b[1;33m,\u001b[0m \u001b[0mSimpleImputer\u001b[0m\u001b[1;33m(\u001b[0m\u001b[0mstrategy\u001b[0m\u001b[1;33m=\u001b[0m\u001b[1;34m\"constant\"\u001b[0m\u001b[1;33m,\u001b[0m \u001b[0mfill_value\u001b[0m\u001b[1;33m=\u001b[0m\u001b[1;34m\"Abwesend\"\u001b[0m\u001b[1;33m)\u001b[0m\u001b[1;33m)\u001b[0m\u001b[1;33m,\u001b[0m\u001b[1;33m\u001b[0m\u001b[1;33m\u001b[0m\u001b[0m\n",
      "\u001b[1;31mNameError\u001b[0m: name 'ColumnTransformer' is not defined"
     ]
    }
   ],
   "source": [
    "preprocess = ColumnTransformer(\n",
    "    transformers=[\n",
    "        (\"preprocess_vote\", Pipeline(\n",
    "            steps=[\n",
    "                ('imputer', SimpleImputer(strategy=\"constant\", fill_value=\"Abwesend\")),\n",
    "                ('onehot', OneHotEncoder())\n",
    "            ]\n",
    "        ), vote_cols)\n",
    "    ],\n",
    "    sparse_threshold=0)\n",
    "df_preprocessed = preprocess.fit_transform(df)\n"
   ]
  },
  {
   "cell_type": "markdown",
   "metadata": {},
   "source": [
    "Use tSNE for Visualization\n"
   ]
  },
  {
   "cell_type": "code",
   "execution_count": 35,
   "metadata": {},
   "outputs": [],
   "source": [
    "\n",
    "tsne = TSNE(n_components=2)\n",
    "mapping = tsne.fit_transform(df_preprocessed)\n"
   ]
  },
  {
   "cell_type": "code",
   "execution_count": 36,
   "metadata": {},
   "outputs": [
    {
     "data": {
      "text/html": [
       "<div>\n",
       "<style scoped>\n",
       "    .dataframe tbody tr th:only-of-type {\n",
       "        vertical-align: middle;\n",
       "    }\n",
       "\n",
       "    .dataframe tbody tr th {\n",
       "        vertical-align: top;\n",
       "    }\n",
       "\n",
       "    .dataframe thead th {\n",
       "        text-align: right;\n",
       "    }\n",
       "</style>\n",
       "<table border=\"1\" class=\"dataframe\">\n",
       "  <thead>\n",
       "    <tr style=\"text-align: right;\">\n",
       "      <th></th>\n",
       "      <th>x</th>\n",
       "      <th>y</th>\n",
       "      <th>name</th>\n",
       "      <th>party</th>\n",
       "    </tr>\n",
       "  </thead>\n",
       "  <tbody>\n",
       "    <tr>\n",
       "      <th>0</th>\n",
       "      <td>4.002773</td>\n",
       "      <td>20.504961</td>\n",
       "      <td>Peter Aumer</td>\n",
       "      <td>CDU/CSU</td>\n",
       "    </tr>\n",
       "    <tr>\n",
       "      <th>1</th>\n",
       "      <td>10.719733</td>\n",
       "      <td>12.590952</td>\n",
       "      <td>Dorothee Bär</td>\n",
       "      <td>CDU/CSU</td>\n",
       "    </tr>\n",
       "    <tr>\n",
       "      <th>2</th>\n",
       "      <td>4.436424</td>\n",
       "      <td>24.128054</td>\n",
       "      <td>Thomas Bareiß</td>\n",
       "      <td>CDU/CSU</td>\n",
       "    </tr>\n",
       "    <tr>\n",
       "      <th>3</th>\n",
       "      <td>1.346964</td>\n",
       "      <td>17.565140</td>\n",
       "      <td>Peter Beyer</td>\n",
       "      <td>CDU/CSU</td>\n",
       "    </tr>\n",
       "    <tr>\n",
       "      <th>4</th>\n",
       "      <td>1.879826</td>\n",
       "      <td>21.098366</td>\n",
       "      <td>Steffen Bilger</td>\n",
       "      <td>CDU/CSU</td>\n",
       "    </tr>\n",
       "    <tr>\n",
       "      <th>5</th>\n",
       "      <td>2.883974</td>\n",
       "      <td>19.637810</td>\n",
       "      <td>Reinhard Brandl</td>\n",
       "      <td>CDU/CSU</td>\n",
       "    </tr>\n",
       "    <tr>\n",
       "      <th>6</th>\n",
       "      <td>8.355552</td>\n",
       "      <td>18.932905</td>\n",
       "      <td>Helge Braun</td>\n",
       "      <td>CDU/CSU</td>\n",
       "    </tr>\n",
       "    <tr>\n",
       "      <th>7</th>\n",
       "      <td>12.382918</td>\n",
       "      <td>8.387936</td>\n",
       "      <td>Heike Brehmer</td>\n",
       "      <td>CDU/CSU</td>\n",
       "    </tr>\n",
       "    <tr>\n",
       "      <th>8</th>\n",
       "      <td>10.974137</td>\n",
       "      <td>11.918363</td>\n",
       "      <td>Ralph Brinkhaus</td>\n",
       "      <td>CDU/CSU</td>\n",
       "    </tr>\n",
       "    <tr>\n",
       "      <th>9</th>\n",
       "      <td>4.143567</td>\n",
       "      <td>22.434999</td>\n",
       "      <td>Gitta Connemann</td>\n",
       "      <td>CDU/CSU</td>\n",
       "    </tr>\n",
       "    <tr>\n",
       "      <th>10</th>\n",
       "      <td>3.633306</td>\n",
       "      <td>22.463552</td>\n",
       "      <td>Alexander Dobrindt</td>\n",
       "      <td>CDU/CSU</td>\n",
       "    </tr>\n",
       "    <tr>\n",
       "      <th>11</th>\n",
       "      <td>6.111722</td>\n",
       "      <td>16.730473</td>\n",
       "      <td>Enak Ferlemann</td>\n",
       "      <td>CDU/CSU</td>\n",
       "    </tr>\n",
       "    <tr>\n",
       "      <th>12</th>\n",
       "      <td>11.878070</td>\n",
       "      <td>10.413779</td>\n",
       "      <td>Hans-Peter Friedrich</td>\n",
       "      <td>CDU/CSU</td>\n",
       "    </tr>\n",
       "    <tr>\n",
       "      <th>13</th>\n",
       "      <td>3.240216</td>\n",
       "      <td>21.755651</td>\n",
       "      <td>Michael Frieser</td>\n",
       "      <td>CDU/CSU</td>\n",
       "    </tr>\n",
       "    <tr>\n",
       "      <th>14</th>\n",
       "      <td>3.334960</td>\n",
       "      <td>22.044765</td>\n",
       "      <td>Ingo Gädechens</td>\n",
       "      <td>CDU/CSU</td>\n",
       "    </tr>\n",
       "    <tr>\n",
       "      <th>15</th>\n",
       "      <td>3.311495</td>\n",
       "      <td>22.121456</td>\n",
       "      <td>Thomas Gebhart</td>\n",
       "      <td>CDU/CSU</td>\n",
       "    </tr>\n",
       "    <tr>\n",
       "      <th>16</th>\n",
       "      <td>2.256258</td>\n",
       "      <td>23.259819</td>\n",
       "      <td>Hermann Gröhe</td>\n",
       "      <td>CDU/CSU</td>\n",
       "    </tr>\n",
       "    <tr>\n",
       "      <th>17</th>\n",
       "      <td>3.873984</td>\n",
       "      <td>24.235373</td>\n",
       "      <td>Michael Grosse-Brömer</td>\n",
       "      <td>CDU/CSU</td>\n",
       "    </tr>\n",
       "    <tr>\n",
       "      <th>18</th>\n",
       "      <td>8.537942</td>\n",
       "      <td>15.810351</td>\n",
       "      <td>Markus Grübel</td>\n",
       "      <td>CDU/CSU</td>\n",
       "    </tr>\n",
       "    <tr>\n",
       "      <th>19</th>\n",
       "      <td>6.920170</td>\n",
       "      <td>22.290955</td>\n",
       "      <td>Manfred Grund</td>\n",
       "      <td>CDU/CSU</td>\n",
       "    </tr>\n",
       "  </tbody>\n",
       "</table>\n",
       "</div>"
      ],
      "text/plain": [
       "            x          y                   name    party\n",
       "0    4.002773  20.504961            Peter Aumer  CDU/CSU\n",
       "1   10.719733  12.590952           Dorothee Bär  CDU/CSU\n",
       "2    4.436424  24.128054          Thomas Bareiß  CDU/CSU\n",
       "3    1.346964  17.565140            Peter Beyer  CDU/CSU\n",
       "4    1.879826  21.098366         Steffen Bilger  CDU/CSU\n",
       "5    2.883974  19.637810        Reinhard Brandl  CDU/CSU\n",
       "6    8.355552  18.932905            Helge Braun  CDU/CSU\n",
       "7   12.382918   8.387936          Heike Brehmer  CDU/CSU\n",
       "8   10.974137  11.918363        Ralph Brinkhaus  CDU/CSU\n",
       "9    4.143567  22.434999        Gitta Connemann  CDU/CSU\n",
       "10   3.633306  22.463552     Alexander Dobrindt  CDU/CSU\n",
       "11   6.111722  16.730473         Enak Ferlemann  CDU/CSU\n",
       "12  11.878070  10.413779  Hans-Peter Friedrich   CDU/CSU\n",
       "13   3.240216  21.755651        Michael Frieser  CDU/CSU\n",
       "14   3.334960  22.044765         Ingo Gädechens  CDU/CSU\n",
       "15   3.311495  22.121456         Thomas Gebhart  CDU/CSU\n",
       "16   2.256258  23.259819          Hermann Gröhe  CDU/CSU\n",
       "17   3.873984  24.235373  Michael Grosse-Brömer  CDU/CSU\n",
       "18   8.537942  15.810351          Markus Grübel  CDU/CSU\n",
       "19   6.920170  22.290955          Manfred Grund  CDU/CSU"
      ]
     },
     "execution_count": 36,
     "metadata": {},
     "output_type": "execute_result"
    }
   ],
   "source": [
    "df_mapping = pd.DataFrame(mapping, columns=[\"x\", \"y\"])\n",
    "df_mapping[\"name\"] = df[\"Vorname\"] + \" \" + df[\"Name\"]\n",
    "df_mapping[\"party\"] = df[\"Fraktion/Gruppe\"]\n",
    "df_mapping.head(20)\n"
   ]
  },
  {
   "cell_type": "code",
   "execution_count": 37,
   "metadata": {},
   "outputs": [],
   "source": [
    "colors = {\n",
    "    \"AfD\": '#009ee0',\n",
    "    \"FDP\": '#ffff00',\n",
    "    \"CDU/CSU\": '#000000',\n",
    "    \"SPD\": '#E3000F',\n",
    "    \"BÜNDNIS`90/DIE GRÜNEN\": '#46962b',\n",
    "    \"DIE LINKE.\": '#BE3075',\n",
    "    \"Fraktionslos\": \"#333333\"\n",
    "}\n"
   ]
  },
  {
   "cell_type": "code",
   "execution_count": 38,
   "metadata": {},
   "outputs": [
    {
     "data": {
      "image/png": "[encoded data removed]",
      "text/plain": [
       "<Figure size 640x480 with 1 Axes>"
      ]
     },
     "metadata": {},
     "output_type": "display_data"
    },
    {
     "data": {
      "text/plain": [
       "<ggplot: (119883803480)>"
      ]
     },
     "execution_count": 38,
     "metadata": {},
     "output_type": "execute_result"
    }
   ],
   "source": [
    "ggplot(df_mapping, aes(x=\"x\", y=\"y\", label=\"name\")) + geom_point(aes(colour=\"party\")) + scale_color_manual(values=colors)\n"
   ]
  }
 ],
 "metadata": {
  "interpreter": {
   "hash": "96eb50e1d44aed467dc8f759cb08c32fbfa9babcf79c554e2d0e5feb04653a10"
  },
  "kernelspec": {
   "display_name": "Python 3.9.7 ('base')",
   "language": "python",
   "name": "python3"
  },
  "language_info": {
   "codemirror_mode": {
    "name": "ipython",
    "version": 3
   },
   "file_extension": ".py",
   "mimetype": "text/x-python",
   "name": "python",
   "nbconvert_exporter": "python",
   "pygments_lexer": "ipython3",
   "version": "3.9.7"
  },
  "orig_nbformat": 4
 },
 "nbformat": 4,
 "nbformat_minor": 2
}
