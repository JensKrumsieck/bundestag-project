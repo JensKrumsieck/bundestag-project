{
 "cells": [
  {
   "cell_type": "code",
   "execution_count": 390,
   "metadata": {},
   "outputs": [
    {
     "name": "stdout",
     "output_type": "stream",
     "text": [
      "Requirement already satisfied: plotnine in e:\\anaconda\\lib\\site-packages (0.8.0)\n",
      "Requirement already satisfied: pandas>=1.1.0 in e:\\anaconda\\lib\\site-packages (from plotnine) (1.3.4)\n",
      "Requirement already satisfied: matplotlib>=3.1.1 in e:\\anaconda\\lib\\site-packages (from plotnine) (3.4.3)\n",
      "Requirement already satisfied: scipy>=1.5.0 in e:\\anaconda\\lib\\site-packages (from plotnine) (1.7.1)\n",
      "Requirement already satisfied: numpy>=1.19.0 in e:\\anaconda\\lib\\site-packages (from plotnine) (1.20.3)\n",
      "Requirement already satisfied: patsy>=0.5.1 in e:\\anaconda\\lib\\site-packages (from plotnine) (0.5.2)\n",
      "Requirement already satisfied: mizani>=0.7.3 in e:\\anaconda\\lib\\site-packages (from plotnine) (0.7.3)\n",
      "Requirement already satisfied: descartes>=1.1.0 in e:\\anaconda\\lib\\site-packages (from plotnine) (1.1.0)\n",
      "Requirement already satisfied: statsmodels>=0.12.1 in e:\\anaconda\\lib\\site-packages (from plotnine) (0.12.2)\n",
      "Requirement already satisfied: python-dateutil>=2.7 in e:\\anaconda\\lib\\site-packages (from matplotlib>=3.1.1->plotnine) (2.8.2)\n",
      "Requirement already satisfied: cycler>=0.10 in e:\\anaconda\\lib\\site-packages (from matplotlib>=3.1.1->plotnine) (0.10.0)\n",
      "Requirement already satisfied: pillow>=6.2.0 in e:\\anaconda\\lib\\site-packages (from matplotlib>=3.1.1->plotnine) (8.4.0)\n",
      "Requirement already satisfied: kiwisolver>=1.0.1 in e:\\anaconda\\lib\\site-packages (from matplotlib>=3.1.1->plotnine) (1.3.1)\n",
      "Requirement already satisfied: pyparsing>=2.2.1 in e:\\anaconda\\lib\\site-packages (from matplotlib>=3.1.1->plotnine) (3.0.4)\n",
      "Requirement already satisfied: six in e:\\anaconda\\lib\\site-packages (from cycler>=0.10->matplotlib>=3.1.1->plotnine) (1.16.0)\n",
      "Requirement already satisfied: palettable in e:\\anaconda\\lib\\site-packages (from mizani>=0.7.3->plotnine) (3.3.0)\n",
      "Requirement already satisfied: pytz>=2017.3 in e:\\anaconda\\lib\\site-packages (from pandas>=1.1.0->plotnine) (2021.3)\n"
     ]
    }
   ],
   "source": [
    "! pip install plotnine"
   ]
  },
  {
   "cell_type": "code",
   "execution_count": 391,
   "metadata": {},
   "outputs": [],
   "source": [
    "import pandas as pd\n",
    "from plotnine import *"
   ]
  },
  {
   "cell_type": "markdown",
   "metadata": {},
   "source": [
    "### Read and preprocess data"
   ]
  },
  {
   "cell_type": "code",
   "execution_count": 392,
   "metadata": {},
   "outputs": [
    {
     "data": {
      "text/html": [
       "<div>\n",
       "<style scoped>\n",
       "    .dataframe tbody tr th:only-of-type {\n",
       "        vertical-align: middle;\n",
       "    }\n",
       "\n",
       "    .dataframe tbody tr th {\n",
       "        vertical-align: top;\n",
       "    }\n",
       "\n",
       "    .dataframe thead th {\n",
       "        text-align: right;\n",
       "    }\n",
       "</style>\n",
       "<table border=\"1\" class=\"dataframe\">\n",
       "  <thead>\n",
       "    <tr style=\"text-align: right;\">\n",
       "      <th></th>\n",
       "      <th>Name</th>\n",
       "      <th>Vorname</th>\n",
       "      <th>Fraktion/Gruppe</th>\n",
       "      <th>19-004-01</th>\n",
       "      <th>19-004-02</th>\n",
       "      <th>19-004-03</th>\n",
       "      <th>19-004-04</th>\n",
       "      <th>19-004-05</th>\n",
       "      <th>19-005-01</th>\n",
       "      <th>19-005-02</th>\n",
       "      <th>...</th>\n",
       "      <th>19-234-02</th>\n",
       "      <th>19-236-01</th>\n",
       "      <th>19-236-02</th>\n",
       "      <th>19-236-03</th>\n",
       "      <th>19-236-04</th>\n",
       "      <th>19-236-05</th>\n",
       "      <th>19-236-06</th>\n",
       "      <th>19-238-01</th>\n",
       "      <th>19-238-02</th>\n",
       "      <th>19-239-01</th>\n",
       "    </tr>\n",
       "  </thead>\n",
       "  <tbody>\n",
       "    <tr>\n",
       "      <th>0</th>\n",
       "      <td>Altmaier</td>\n",
       "      <td>Peter</td>\n",
       "      <td>CDU/CSU</td>\n",
       "      <td>Ja</td>\n",
       "      <td>Ja</td>\n",
       "      <td>Abwesend</td>\n",
       "      <td>Ja</td>\n",
       "      <td>Ja</td>\n",
       "      <td>Ja</td>\n",
       "      <td>Ja</td>\n",
       "      <td>...</td>\n",
       "      <td>Abwesend</td>\n",
       "      <td>Abwesend</td>\n",
       "      <td>Abwesend</td>\n",
       "      <td>Abwesend</td>\n",
       "      <td>Abwesend</td>\n",
       "      <td>Abwesend</td>\n",
       "      <td>Abwesend</td>\n",
       "      <td>Ja</td>\n",
       "      <td>Ja</td>\n",
       "      <td>Abwesend</td>\n",
       "    </tr>\n",
       "    <tr>\n",
       "      <th>1</th>\n",
       "      <td>Aumer</td>\n",
       "      <td>Peter</td>\n",
       "      <td>CDU/CSU</td>\n",
       "      <td>Ja</td>\n",
       "      <td>Ja</td>\n",
       "      <td>Ja</td>\n",
       "      <td>Ja</td>\n",
       "      <td>Ja</td>\n",
       "      <td>Ja</td>\n",
       "      <td>Ja</td>\n",
       "      <td>...</td>\n",
       "      <td>Ja</td>\n",
       "      <td>Ja</td>\n",
       "      <td>Ja</td>\n",
       "      <td>Ja</td>\n",
       "      <td>Nein</td>\n",
       "      <td>Ja</td>\n",
       "      <td>Ja</td>\n",
       "      <td>Ja</td>\n",
       "      <td>Ja</td>\n",
       "      <td>Ja</td>\n",
       "    </tr>\n",
       "    <tr>\n",
       "      <th>2</th>\n",
       "      <td>Bär</td>\n",
       "      <td>Dorothee</td>\n",
       "      <td>CDU/CSU</td>\n",
       "      <td>Ja</td>\n",
       "      <td>Ja</td>\n",
       "      <td>Ja</td>\n",
       "      <td>Ja</td>\n",
       "      <td>Ja</td>\n",
       "      <td>Ja</td>\n",
       "      <td>Ja</td>\n",
       "      <td>...</td>\n",
       "      <td>Ja</td>\n",
       "      <td>Ja</td>\n",
       "      <td>Ja</td>\n",
       "      <td>Ja</td>\n",
       "      <td>Nein</td>\n",
       "      <td>Ja</td>\n",
       "      <td>Ja</td>\n",
       "      <td>Ja</td>\n",
       "      <td>Ja</td>\n",
       "      <td>Ja</td>\n",
       "    </tr>\n",
       "    <tr>\n",
       "      <th>3</th>\n",
       "      <td>Bareiß</td>\n",
       "      <td>Thomas</td>\n",
       "      <td>CDU/CSU</td>\n",
       "      <td>Ja</td>\n",
       "      <td>Ja</td>\n",
       "      <td>Ja</td>\n",
       "      <td>Ja</td>\n",
       "      <td>Ja</td>\n",
       "      <td>Ja</td>\n",
       "      <td>Ja</td>\n",
       "      <td>...</td>\n",
       "      <td>Ja</td>\n",
       "      <td>Ja</td>\n",
       "      <td>Ja</td>\n",
       "      <td>Ja</td>\n",
       "      <td>Nein</td>\n",
       "      <td>Ja</td>\n",
       "      <td>Ja</td>\n",
       "      <td>Ja</td>\n",
       "      <td>Ja</td>\n",
       "      <td>Ja</td>\n",
       "    </tr>\n",
       "    <tr>\n",
       "      <th>4</th>\n",
       "      <td>Barthle</td>\n",
       "      <td>Norbert</td>\n",
       "      <td>CDU/CSU</td>\n",
       "      <td>Ja</td>\n",
       "      <td>Ja</td>\n",
       "      <td>Ja</td>\n",
       "      <td>Ja</td>\n",
       "      <td>Ja</td>\n",
       "      <td>Ja</td>\n",
       "      <td>Ja</td>\n",
       "      <td>...</td>\n",
       "      <td>Ja</td>\n",
       "      <td>Ja</td>\n",
       "      <td>Ja</td>\n",
       "      <td>Ja</td>\n",
       "      <td>Nein</td>\n",
       "      <td>Ja</td>\n",
       "      <td>Ja</td>\n",
       "      <td>Ja</td>\n",
       "      <td>Ja</td>\n",
       "      <td>Ja</td>\n",
       "    </tr>\n",
       "  </tbody>\n",
       "</table>\n",
       "<p>5 rows × 247 columns</p>\n",
       "</div>"
      ],
      "text/plain": [
       "       Name   Vorname Fraktion/Gruppe 19-004-01 19-004-02 19-004-03 19-004-04  \\\n",
       "0  Altmaier     Peter         CDU/CSU        Ja        Ja  Abwesend        Ja   \n",
       "1     Aumer     Peter         CDU/CSU        Ja        Ja        Ja        Ja   \n",
       "2       Bär  Dorothee         CDU/CSU        Ja        Ja        Ja        Ja   \n",
       "3    Bareiß    Thomas         CDU/CSU        Ja        Ja        Ja        Ja   \n",
       "4   Barthle   Norbert         CDU/CSU        Ja        Ja        Ja        Ja   \n",
       "\n",
       "  19-004-05 19-005-01 19-005-02  ... 19-234-02 19-236-01 19-236-02 19-236-03  \\\n",
       "0        Ja        Ja        Ja  ...  Abwesend  Abwesend  Abwesend  Abwesend   \n",
       "1        Ja        Ja        Ja  ...        Ja        Ja        Ja        Ja   \n",
       "2        Ja        Ja        Ja  ...        Ja        Ja        Ja        Ja   \n",
       "3        Ja        Ja        Ja  ...        Ja        Ja        Ja        Ja   \n",
       "4        Ja        Ja        Ja  ...        Ja        Ja        Ja        Ja   \n",
       "\n",
       "  19-236-04 19-236-05 19-236-06 19-238-01 19-238-02 19-239-01  \n",
       "0  Abwesend  Abwesend  Abwesend        Ja        Ja  Abwesend  \n",
       "1      Nein        Ja        Ja        Ja        Ja        Ja  \n",
       "2      Nein        Ja        Ja        Ja        Ja        Ja  \n",
       "3      Nein        Ja        Ja        Ja        Ja        Ja  \n",
       "4      Nein        Ja        Ja        Ja        Ja        Ja  \n",
       "\n",
       "[5 rows x 247 columns]"
      ]
     },
     "execution_count": 392,
     "metadata": {},
     "output_type": "execute_result"
    }
   ],
   "source": [
    "df = pd.read_csv(\"./data/19_data.csv\", sep=\";\")\n",
    "df.replace(\"BÜ90/GR\", \"BÜNDNIS`90/DIE GRÜNEN\", inplace=True)\n",
    "df.replace(\"DIE LINKE\", \"DIE LINKE.\", inplace=True)\n",
    "df.drop(\"Unnamed: 0\", axis=1,inplace=True) # index col\n",
    "df.head()"
   ]
  },
  {
   "cell_type": "markdown",
   "metadata": {},
   "source": [
    "Remove city information and only use 1st firstname"
   ]
  },
  {
   "cell_type": "code",
   "execution_count": 451,
   "metadata": {},
   "outputs": [
    {
     "data": {
      "text/plain": [
       "(758, 247)"
      ]
     },
     "execution_count": 451,
     "metadata": {},
     "output_type": "execute_result"
    }
   ],
   "source": [
    "df[\"Name\"] = df[\"Name\"].map(lambda x: x.split(\"(\")[0])\n",
    "df[\"Vorname\"] = df[\"Vorname\"].map(lambda x: x.split(\" \")[0])\n",
    "df.shape"
   ]
  },
  {
   "cell_type": "markdown",
   "metadata": {},
   "source": [
    "If someone switched fraction, merge values"
   ]
  },
  {
   "cell_type": "code",
   "execution_count": 452,
   "metadata": {},
   "outputs": [
    {
     "data": {
      "text/plain": [
       "(752, 247)"
      ]
     },
     "execution_count": 452,
     "metadata": {},
     "output_type": "execute_result"
    }
   ],
   "source": [
    "df = df.groupby([\"Name\", \"Vorname\"]).apply(lambda x: x.ffill().bfill()).drop_duplicates(subset=[\"Name\", \"Vorname\"]).reset_index().drop(\"index\", axis=1)\n",
    "df.shape"
   ]
  },
  {
   "cell_type": "markdown",
   "metadata": {},
   "source": [
    "### Pipeline"
   ]
  },
  {
   "cell_type": "markdown",
   "metadata": {},
   "source": [
    "allowed values for votes: \"Ja\" = _yes_, \"Nein\" = _no_, \"Enthaltung\" = _abstention_, \"Ungültig\" = _invalid_, \"Abwesend\" = _not voted_ or NaN"
   ]
  },
  {
   "cell_type": "markdown",
   "metadata": {},
   "source": [
    "Columns containing the votes are named with the following scheme: {Period}-{Session}-{Poll}"
   ]
  },
  {
   "cell_type": "code",
   "execution_count": 407,
   "metadata": {},
   "outputs": [],
   "source": [
    "vote_cols = [c for c in df.columns if \"-\" in c] "
   ]
  },
  {
   "cell_type": "code",
   "execution_count": 433,
   "metadata": {},
   "outputs": [],
   "source": [
    "from sklearn.pipeline import Pipeline\n",
    "from sklearn.impute import SimpleImputer\n",
    "from sklearn.preprocessing import OneHotEncoder\n",
    "from sklearn.compose import ColumnTransformer\n",
    "from sklearn.manifold import TSNE"
   ]
  },
  {
   "cell_type": "code",
   "execution_count": 444,
   "metadata": {},
   "outputs": [],
   "source": [
    "\n",
    "pipe = Pipeline(\n",
    "    steps=[\n",
    "        ('ct', ColumnTransformer(\n",
    "            transformers=[\n",
    "                (\"preprocess_vote\", Pipeline(\n",
    "                    steps=[\n",
    "                        ('imputer', SimpleImputer(strategy=\"constant\", fill_value=\"Abwesend\")),\n",
    "                        ('onehot', OneHotEncoder())\n",
    "                    ]\n",
    "                ), vote_cols)\n",
    "            ],\n",
    "            sparse_threshold=0)\n",
    "         ),\n",
    "         ('tsne', TSNE(init=\"pca\"))\n",
    "    ]\n",
    ")\n",
    "mapping = pipe.fit_transform(df)\n"
   ]
  },
  {
   "cell_type": "code",
   "execution_count": 445,
   "metadata": {},
   "outputs": [
    {
     "data": {
      "text/html": [
       "<div>\n",
       "<style scoped>\n",
       "    .dataframe tbody tr th:only-of-type {\n",
       "        vertical-align: middle;\n",
       "    }\n",
       "\n",
       "    .dataframe tbody tr th {\n",
       "        vertical-align: top;\n",
       "    }\n",
       "\n",
       "    .dataframe thead th {\n",
       "        text-align: right;\n",
       "    }\n",
       "</style>\n",
       "<table border=\"1\" class=\"dataframe\">\n",
       "  <thead>\n",
       "    <tr style=\"text-align: right;\">\n",
       "      <th></th>\n",
       "      <th>x</th>\n",
       "      <th>y</th>\n",
       "      <th>name</th>\n",
       "      <th>party</th>\n",
       "    </tr>\n",
       "  </thead>\n",
       "  <tbody>\n",
       "    <tr>\n",
       "      <th>0</th>\n",
       "      <td>9.159902</td>\n",
       "      <td>12.253988</td>\n",
       "      <td>Peter Altmaier</td>\n",
       "      <td>CDU/CSU</td>\n",
       "    </tr>\n",
       "    <tr>\n",
       "      <th>1</th>\n",
       "      <td>-15.258219</td>\n",
       "      <td>1.784014</td>\n",
       "      <td>Peter Aumer</td>\n",
       "      <td>CDU/CSU</td>\n",
       "    </tr>\n",
       "    <tr>\n",
       "      <th>2</th>\n",
       "      <td>-17.406893</td>\n",
       "      <td>2.639934</td>\n",
       "      <td>Dorothee Bär</td>\n",
       "      <td>CDU/CSU</td>\n",
       "    </tr>\n",
       "    <tr>\n",
       "      <th>3</th>\n",
       "      <td>-17.439224</td>\n",
       "      <td>5.380239</td>\n",
       "      <td>Thomas Bareiß</td>\n",
       "      <td>CDU/CSU</td>\n",
       "    </tr>\n",
       "    <tr>\n",
       "      <th>4</th>\n",
       "      <td>-17.836061</td>\n",
       "      <td>-0.757794</td>\n",
       "      <td>Norbert Barthle</td>\n",
       "      <td>CDU/CSU</td>\n",
       "    </tr>\n",
       "  </tbody>\n",
       "</table>\n",
       "</div>"
      ],
      "text/plain": [
       "           x          y             name    party\n",
       "0   9.159902  12.253988   Peter Altmaier  CDU/CSU\n",
       "1 -15.258219   1.784014      Peter Aumer  CDU/CSU\n",
       "2 -17.406893   2.639934     Dorothee Bär  CDU/CSU\n",
       "3 -17.439224   5.380239    Thomas Bareiß  CDU/CSU\n",
       "4 -17.836061  -0.757794  Norbert Barthle  CDU/CSU"
      ]
     },
     "execution_count": 445,
     "metadata": {},
     "output_type": "execute_result"
    }
   ],
   "source": [
    "df_mapping = pd.DataFrame(mapping, columns=[\"x\", \"y\"])\n",
    "df_mapping[\"name\"] = df[\"Vorname\"] + \" \" + df[\"Name\"]\n",
    "df_mapping[\"party\"] = df[\"Fraktion/Gruppe\"]\n",
    "df_mapping.head()"
   ]
  },
  {
   "cell_type": "code",
   "execution_count": null,
   "metadata": {},
   "outputs": [],
   "source": [
    "colors = {\n",
    "    \"AfD\": '#009ee0',\n",
    "    \"FDP\": '#ffff00',\n",
    "    \"CDU/CSU\": '#000000',\n",
    "    \"SPD\": '#E3000F',\n",
    "    \"BÜNDNIS`90/DIE GRÜNEN\": '#46962b',\n",
    "    \"DIE LINKE.\": '#BE3075',\n",
    "    \"Fraktionslos\": \"#333333\"\n",
    "    }"
   ]
  },
  {
   "cell_type": "code",
   "execution_count": 446,
   "metadata": {},
   "outputs": [
    {
     "data": {
      "image/png": "[encoded data removed]",
      "text/plain": [
       "<Figure size 640x480 with 1 Axes>"
      ]
     },
     "metadata": {},
     "output_type": "display_data"
    },
    {
     "data": {
      "text/plain": [
       "<ggplot: (95385808580)>"
      ]
     },
     "execution_count": 446,
     "metadata": {},
     "output_type": "execute_result"
    }
   ],
   "source": [
    "ggplot(df_mapping, aes(x=\"x\", y=\"y\", label=\"name\")) + geom_point(aes(colour = \"party\")) + scale_color_manual(values = colors)"
   ]
  },
  {
   "cell_type": "code",
   "execution_count": null,
   "metadata": {},
   "outputs": [],
   "source": []
  }
 ],
 "metadata": {
  "interpreter": {
   "hash": "96eb50e1d44aed467dc8f759cb08c32fbfa9babcf79c554e2d0e5feb04653a10"
  },
  "kernelspec": {
   "display_name": "Python 3.9.7 ('base')",
   "language": "python",
   "name": "python3"
  },
  "language_info": {
   "codemirror_mode": {
    "name": "ipython",
    "version": 3
   },
   "file_extension": ".py",
   "mimetype": "text/x-python",
   "name": "python",
   "nbconvert_exporter": "python",
   "pygments_lexer": "ipython3",
   "version": "3.9.7"
  },
  "orig_nbformat": 4
 },
 "nbformat": 4,
 "nbformat_minor": 2
}
