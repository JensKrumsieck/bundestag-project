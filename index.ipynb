{
 "cells": [
  {
   "cell_type": "code",
   "execution_count": 1,
   "metadata": {},
   "outputs": [
    {
     "name": "stdout",
     "output_type": "stream",
     "text": [
      "Requirement already satisfied: plotnine in e:\\anaconda\\lib\\site-packages (0.8.0)\n",
      "Requirement already satisfied: matplotlib>=3.1.1 in e:\\anaconda\\lib\\site-packages (from plotnine) (3.4.3)\n",
      "Requirement already satisfied: mizani>=0.7.3 in e:\\anaconda\\lib\\site-packages (from plotnine) (0.7.3)\n",
      "Requirement already satisfied: pandas>=1.1.0 in e:\\anaconda\\lib\\site-packages (from plotnine) (1.3.4)\n",
      "Requirement already satisfied: numpy>=1.19.0 in e:\\anaconda\\lib\\site-packages (from plotnine) (1.20.3)\n",
      "Requirement already satisfied: statsmodels>=0.12.1 in e:\\anaconda\\lib\\site-packages (from plotnine) (0.12.2)\n",
      "Requirement already satisfied: patsy>=0.5.1 in e:\\anaconda\\lib\\site-packages (from plotnine) (0.5.2)\n",
      "Requirement already satisfied: scipy>=1.5.0 in e:\\anaconda\\lib\\site-packages (from plotnine) (1.7.1)\n",
      "Requirement already satisfied: descartes>=1.1.0 in e:\\anaconda\\lib\\site-packages (from plotnine) (1.1.0)\n",
      "Requirement already satisfied: cycler>=0.10 in e:\\anaconda\\lib\\site-packages (from matplotlib>=3.1.1->plotnine) (0.10.0)\n",
      "Requirement already satisfied: pillow>=6.2.0 in e:\\anaconda\\lib\\site-packages (from matplotlib>=3.1.1->plotnine) (8.4.0)\n",
      "Requirement already satisfied: kiwisolver>=1.0.1 in e:\\anaconda\\lib\\site-packages (from matplotlib>=3.1.1->plotnine) (1.3.1)\n",
      "Requirement already satisfied: pyparsing>=2.2.1 in e:\\anaconda\\lib\\site-packages (from matplotlib>=3.1.1->plotnine) (3.0.4)\n",
      "Requirement already satisfied: python-dateutil>=2.7 in e:\\anaconda\\lib\\site-packages (from matplotlib>=3.1.1->plotnine) (2.8.2)\n",
      "Requirement already satisfied: six in e:\\anaconda\\lib\\site-packages (from cycler>=0.10->matplotlib>=3.1.1->plotnine) (1.16.0)\n",
      "Requirement already satisfied: palettable in e:\\anaconda\\lib\\site-packages (from mizani>=0.7.3->plotnine) (3.3.0)\n",
      "Requirement already satisfied: pytz>=2017.3 in e:\\anaconda\\lib\\site-packages (from pandas>=1.1.0->plotnine) (2021.3)\n"
     ]
    }
   ],
   "source": [
    "! pip install plotnine\n"
   ]
  },
  {
   "cell_type": "code",
   "execution_count": 2,
   "metadata": {},
   "outputs": [],
   "source": [
    "import pandas as pd\n",
    "from plotnine import *\n"
   ]
  },
  {
   "cell_type": "markdown",
   "metadata": {},
   "source": [
    "### Read and preprocess data\n"
   ]
  },
  {
   "cell_type": "code",
   "execution_count": 3,
   "metadata": {},
   "outputs": [
    {
     "data": {
      "text/html": [
       "<div>\n",
       "<style scoped>\n",
       "    .dataframe tbody tr th:only-of-type {\n",
       "        vertical-align: middle;\n",
       "    }\n",
       "\n",
       "    .dataframe tbody tr th {\n",
       "        vertical-align: top;\n",
       "    }\n",
       "\n",
       "    .dataframe thead th {\n",
       "        text-align: right;\n",
       "    }\n",
       "</style>\n",
       "<table border=\"1\" class=\"dataframe\">\n",
       "  <thead>\n",
       "    <tr style=\"text-align: right;\">\n",
       "      <th></th>\n",
       "      <th>Name</th>\n",
       "      <th>Vorname</th>\n",
       "      <th>Fraktion/Gruppe</th>\n",
       "      <th>20-003-01</th>\n",
       "      <th>20-003-02</th>\n",
       "      <th>20-007-01</th>\n",
       "      <th>20-007-02</th>\n",
       "      <th>20-014-02</th>\n",
       "      <th>20-014-03</th>\n",
       "      <th>20-015-01</th>\n",
       "      <th>20-021-01</th>\n",
       "      <th>20-022-01</th>\n",
       "      <th>20-022-02</th>\n",
       "      <th>20-022-03</th>\n",
       "    </tr>\n",
       "  </thead>\n",
       "  <tbody>\n",
       "    <tr>\n",
       "      <th>0</th>\n",
       "      <td>Aumer</td>\n",
       "      <td>Peter</td>\n",
       "      <td>CDU/CSU</td>\n",
       "      <td>Nein</td>\n",
       "      <td>Ja</td>\n",
       "      <td>Nein</td>\n",
       "      <td>Ja</td>\n",
       "      <td>Nein</td>\n",
       "      <td>Nein</td>\n",
       "      <td>Ja</td>\n",
       "      <td>Ja</td>\n",
       "      <td>Nein</td>\n",
       "      <td>Ja</td>\n",
       "      <td>Ja</td>\n",
       "    </tr>\n",
       "    <tr>\n",
       "      <th>1</th>\n",
       "      <td>Bär</td>\n",
       "      <td>Dorothee</td>\n",
       "      <td>CDU/CSU</td>\n",
       "      <td>Nein</td>\n",
       "      <td>Ja</td>\n",
       "      <td>Nein</td>\n",
       "      <td>Ja</td>\n",
       "      <td>Nein</td>\n",
       "      <td>Nein</td>\n",
       "      <td>Abwesend</td>\n",
       "      <td>Ja</td>\n",
       "      <td>Abwesend</td>\n",
       "      <td>Abwesend</td>\n",
       "      <td>Abwesend</td>\n",
       "    </tr>\n",
       "    <tr>\n",
       "      <th>2</th>\n",
       "      <td>Bareiß</td>\n",
       "      <td>Thomas</td>\n",
       "      <td>CDU/CSU</td>\n",
       "      <td>Nein</td>\n",
       "      <td>Ja</td>\n",
       "      <td>Nein</td>\n",
       "      <td>Ja</td>\n",
       "      <td>Nein</td>\n",
       "      <td>Nein</td>\n",
       "      <td>Ja</td>\n",
       "      <td>Ja</td>\n",
       "      <td>Nein</td>\n",
       "      <td>Ja</td>\n",
       "      <td>Ja</td>\n",
       "    </tr>\n",
       "    <tr>\n",
       "      <th>3</th>\n",
       "      <td>Beyer</td>\n",
       "      <td>Peter</td>\n",
       "      <td>CDU/CSU</td>\n",
       "      <td>Abwesend</td>\n",
       "      <td>Abwesend</td>\n",
       "      <td>Nein</td>\n",
       "      <td>Ja</td>\n",
       "      <td>Nein</td>\n",
       "      <td>Nein</td>\n",
       "      <td>Ja</td>\n",
       "      <td>Ja</td>\n",
       "      <td>Nein</td>\n",
       "      <td>Ja</td>\n",
       "      <td>Ja</td>\n",
       "    </tr>\n",
       "    <tr>\n",
       "      <th>4</th>\n",
       "      <td>Bilger</td>\n",
       "      <td>Steffen</td>\n",
       "      <td>CDU/CSU</td>\n",
       "      <td>Nein</td>\n",
       "      <td>Ja</td>\n",
       "      <td>Nein</td>\n",
       "      <td>Ja</td>\n",
       "      <td>Nein</td>\n",
       "      <td>Nein</td>\n",
       "      <td>Ja</td>\n",
       "      <td>Ja</td>\n",
       "      <td>Nein</td>\n",
       "      <td>Ja</td>\n",
       "      <td>Ja</td>\n",
       "    </tr>\n",
       "  </tbody>\n",
       "</table>\n",
       "</div>"
      ],
      "text/plain": [
       "     Name   Vorname Fraktion/Gruppe 20-003-01 20-003-02 20-007-01 20-007-02  \\\n",
       "0   Aumer     Peter         CDU/CSU      Nein        Ja      Nein        Ja   \n",
       "1     Bär  Dorothee         CDU/CSU      Nein        Ja      Nein        Ja   \n",
       "2  Bareiß    Thomas         CDU/CSU      Nein        Ja      Nein        Ja   \n",
       "3   Beyer     Peter         CDU/CSU  Abwesend  Abwesend      Nein        Ja   \n",
       "4  Bilger   Steffen         CDU/CSU      Nein        Ja      Nein        Ja   \n",
       "\n",
       "  20-014-02 20-014-03 20-015-01 20-021-01 20-022-01 20-022-02 20-022-03  \n",
       "0      Nein      Nein        Ja        Ja      Nein        Ja        Ja  \n",
       "1      Nein      Nein  Abwesend        Ja  Abwesend  Abwesend  Abwesend  \n",
       "2      Nein      Nein        Ja        Ja      Nein        Ja        Ja  \n",
       "3      Nein      Nein        Ja        Ja      Nein        Ja        Ja  \n",
       "4      Nein      Nein        Ja        Ja      Nein        Ja        Ja  "
      ]
     },
     "execution_count": 3,
     "metadata": {},
     "output_type": "execute_result"
    }
   ],
   "source": [
    "df = pd.read_csv(\"./data/20_data.csv\", sep=\";\")\n",
    "df.replace(\"BÜ90/GR\", \"BÜNDNIS`90/DIE GRÜNEN\", inplace=True)\n",
    "df.replace(\"DIE LINKE\", \"DIE LINKE.\", inplace=True)\n",
    "df.drop(\"Unnamed: 0\", axis=1, inplace=True)  # index col\n",
    "df.head()\n"
   ]
  },
  {
   "cell_type": "markdown",
   "metadata": {},
   "source": [
    "Remove city information and only use 1st firstname\n"
   ]
  },
  {
   "cell_type": "code",
   "execution_count": 4,
   "metadata": {},
   "outputs": [
    {
     "data": {
      "text/plain": [
       "(742, 14)"
      ]
     },
     "execution_count": 4,
     "metadata": {},
     "output_type": "execute_result"
    }
   ],
   "source": [
    "df[\"Name\"] = df[\"Name\"].map(lambda x: x.split(\"(\")[0])\n",
    "df[\"Vorname\"] = df[\"Vorname\"].map(lambda x: x.split(\" \")[0])\n",
    "df.shape\n"
   ]
  },
  {
   "cell_type": "markdown",
   "metadata": {},
   "source": [
    "If someone switched fraction, merge values\n"
   ]
  },
  {
   "cell_type": "code",
   "execution_count": 5,
   "metadata": {},
   "outputs": [
    {
     "data": {
      "text/plain": [
       "(739, 14)"
      ]
     },
     "execution_count": 5,
     "metadata": {},
     "output_type": "execute_result"
    }
   ],
   "source": [
    "df = df.groupby([\"Name\", \"Vorname\"]).apply(lambda x: x.ffill().bfill()).drop_duplicates(subset=[\"Name\", \"Vorname\"]).reset_index().drop(\"index\", axis=1)\n",
    "df.shape\n"
   ]
  },
  {
   "cell_type": "markdown",
   "metadata": {},
   "source": [
    "### Pipeline\n"
   ]
  },
  {
   "cell_type": "markdown",
   "metadata": {},
   "source": [
    "allowed values for votes: \"Ja\" = _yes_, \"Nein\" = _no_, \"Enthaltung\" = _abstention_, \"Ungültig\" = _invalid_, \"Abwesend\" = _not voted_ or NaN\n"
   ]
  },
  {
   "cell_type": "markdown",
   "metadata": {},
   "source": [
    "Columns containing the votes are named with the following scheme: {Period}-{Session}-{Poll}\n"
   ]
  },
  {
   "cell_type": "code",
   "execution_count": 6,
   "metadata": {},
   "outputs": [],
   "source": [
    "vote_cols = [c for c in df.columns if \"-\" in c]\n"
   ]
  },
  {
   "cell_type": "code",
   "execution_count": 7,
   "metadata": {},
   "outputs": [],
   "source": [
    "from sklearn.pipeline import Pipeline\n",
    "from sklearn.impute import SimpleImputer\n",
    "from sklearn.preprocessing import OneHotEncoder\n",
    "from sklearn.compose import ColumnTransformer\n",
    "from sklearn.manifold import TSNE\n"
   ]
  },
  {
   "cell_type": "code",
   "execution_count": 8,
   "metadata": {},
   "outputs": [],
   "source": [
    "preprocess = ColumnTransformer(\n",
    "    transformers=[\n",
    "        (\"preprocess_vote\", Pipeline(\n",
    "            steps=[\n",
    "                ('imputer', SimpleImputer(strategy=\"constant\", fill_value=\"Abwesend\")),\n",
    "                ('onehot', OneHotEncoder())\n",
    "            ]\n",
    "        ), vote_cols)\n",
    "    ],\n",
    "    sparse_threshold=0)\n",
    "df_preprocessed = preprocess.fit_transform(df)\n"
   ]
  },
  {
   "cell_type": "markdown",
   "metadata": {},
   "source": [
    "Use tSNE for Visualization\n"
   ]
  },
  {
   "cell_type": "code",
   "execution_count": 9,
   "metadata": {},
   "outputs": [],
   "source": [
    "\n",
    "tsne = TSNE(n_components=2)\n",
    "mapping = tsne.fit_transform(df_preprocessed)\n"
   ]
  },
  {
   "cell_type": "code",
   "execution_count": 10,
   "metadata": {},
   "outputs": [
    {
     "data": {
      "text/html": [
       "<div>\n",
       "<style scoped>\n",
       "    .dataframe tbody tr th:only-of-type {\n",
       "        vertical-align: middle;\n",
       "    }\n",
       "\n",
       "    .dataframe tbody tr th {\n",
       "        vertical-align: top;\n",
       "    }\n",
       "\n",
       "    .dataframe thead th {\n",
       "        text-align: right;\n",
       "    }\n",
       "</style>\n",
       "<table border=\"1\" class=\"dataframe\">\n",
       "  <thead>\n",
       "    <tr style=\"text-align: right;\">\n",
       "      <th></th>\n",
       "      <th>x</th>\n",
       "      <th>y</th>\n",
       "      <th>name</th>\n",
       "      <th>party</th>\n",
       "    </tr>\n",
       "  </thead>\n",
       "  <tbody>\n",
       "    <tr>\n",
       "      <th>0</th>\n",
       "      <td>-20.722441</td>\n",
       "      <td>8.216320</td>\n",
       "      <td>Peter Aumer</td>\n",
       "      <td>CDU/CSU</td>\n",
       "    </tr>\n",
       "    <tr>\n",
       "      <th>1</th>\n",
       "      <td>-12.286575</td>\n",
       "      <td>12.172701</td>\n",
       "      <td>Dorothee Bär</td>\n",
       "      <td>CDU/CSU</td>\n",
       "    </tr>\n",
       "    <tr>\n",
       "      <th>2</th>\n",
       "      <td>-24.399746</td>\n",
       "      <td>7.786661</td>\n",
       "      <td>Thomas Bareiß</td>\n",
       "      <td>CDU/CSU</td>\n",
       "    </tr>\n",
       "    <tr>\n",
       "      <th>3</th>\n",
       "      <td>-18.954847</td>\n",
       "      <td>3.546416</td>\n",
       "      <td>Peter Beyer</td>\n",
       "      <td>CDU/CSU</td>\n",
       "    </tr>\n",
       "    <tr>\n",
       "      <th>4</th>\n",
       "      <td>-23.893702</td>\n",
       "      <td>6.370592</td>\n",
       "      <td>Steffen Bilger</td>\n",
       "      <td>CDU/CSU</td>\n",
       "    </tr>\n",
       "    <tr>\n",
       "      <th>5</th>\n",
       "      <td>-20.842983</td>\n",
       "      <td>5.459916</td>\n",
       "      <td>Reinhard Brandl</td>\n",
       "      <td>CDU/CSU</td>\n",
       "    </tr>\n",
       "    <tr>\n",
       "      <th>6</th>\n",
       "      <td>-18.732977</td>\n",
       "      <td>11.420308</td>\n",
       "      <td>Helge Braun</td>\n",
       "      <td>CDU/CSU</td>\n",
       "    </tr>\n",
       "    <tr>\n",
       "      <th>7</th>\n",
       "      <td>-8.004027</td>\n",
       "      <td>13.243171</td>\n",
       "      <td>Heike Brehmer</td>\n",
       "      <td>CDU/CSU</td>\n",
       "    </tr>\n",
       "    <tr>\n",
       "      <th>8</th>\n",
       "      <td>-11.573202</td>\n",
       "      <td>12.292979</td>\n",
       "      <td>Ralph Brinkhaus</td>\n",
       "      <td>CDU/CSU</td>\n",
       "    </tr>\n",
       "    <tr>\n",
       "      <th>9</th>\n",
       "      <td>-22.542456</td>\n",
       "      <td>8.436888</td>\n",
       "      <td>Gitta Connemann</td>\n",
       "      <td>CDU/CSU</td>\n",
       "    </tr>\n",
       "    <tr>\n",
       "      <th>10</th>\n",
       "      <td>-22.885401</td>\n",
       "      <td>7.864122</td>\n",
       "      <td>Alexander Dobrindt</td>\n",
       "      <td>CDU/CSU</td>\n",
       "    </tr>\n",
       "    <tr>\n",
       "      <th>11</th>\n",
       "      <td>-15.305052</td>\n",
       "      <td>7.424417</td>\n",
       "      <td>Enak Ferlemann</td>\n",
       "      <td>CDU/CSU</td>\n",
       "    </tr>\n",
       "    <tr>\n",
       "      <th>12</th>\n",
       "      <td>-10.018403</td>\n",
       "      <td>13.104864</td>\n",
       "      <td>Hans-Peter Friedrich</td>\n",
       "      <td>CDU/CSU</td>\n",
       "    </tr>\n",
       "    <tr>\n",
       "      <th>13</th>\n",
       "      <td>-22.776737</td>\n",
       "      <td>7.572156</td>\n",
       "      <td>Michael Frieser</td>\n",
       "      <td>CDU/CSU</td>\n",
       "    </tr>\n",
       "    <tr>\n",
       "      <th>14</th>\n",
       "      <td>-22.866026</td>\n",
       "      <td>7.652230</td>\n",
       "      <td>Ingo Gädechens</td>\n",
       "      <td>CDU/CSU</td>\n",
       "    </tr>\n",
       "    <tr>\n",
       "      <th>15</th>\n",
       "      <td>-22.789906</td>\n",
       "      <td>7.288208</td>\n",
       "      <td>Thomas Gebhart</td>\n",
       "      <td>CDU/CSU</td>\n",
       "    </tr>\n",
       "    <tr>\n",
       "      <th>16</th>\n",
       "      <td>-24.229965</td>\n",
       "      <td>6.806122</td>\n",
       "      <td>Hermann Gröhe</td>\n",
       "      <td>CDU/CSU</td>\n",
       "    </tr>\n",
       "    <tr>\n",
       "      <th>17</th>\n",
       "      <td>-24.341354</td>\n",
       "      <td>7.229994</td>\n",
       "      <td>Michael Grosse-Brömer</td>\n",
       "      <td>CDU/CSU</td>\n",
       "    </tr>\n",
       "    <tr>\n",
       "      <th>18</th>\n",
       "      <td>-15.909221</td>\n",
       "      <td>10.462670</td>\n",
       "      <td>Markus Grübel</td>\n",
       "      <td>CDU/CSU</td>\n",
       "    </tr>\n",
       "    <tr>\n",
       "      <th>19</th>\n",
       "      <td>-19.414463</td>\n",
       "      <td>6.427108</td>\n",
       "      <td>Manfred Grund</td>\n",
       "      <td>CDU/CSU</td>\n",
       "    </tr>\n",
       "  </tbody>\n",
       "</table>\n",
       "</div>"
      ],
      "text/plain": [
       "            x          y                   name    party\n",
       "0  -20.722441   8.216320            Peter Aumer  CDU/CSU\n",
       "1  -12.286575  12.172701           Dorothee Bär  CDU/CSU\n",
       "2  -24.399746   7.786661          Thomas Bareiß  CDU/CSU\n",
       "3  -18.954847   3.546416            Peter Beyer  CDU/CSU\n",
       "4  -23.893702   6.370592         Steffen Bilger  CDU/CSU\n",
       "5  -20.842983   5.459916        Reinhard Brandl  CDU/CSU\n",
       "6  -18.732977  11.420308            Helge Braun  CDU/CSU\n",
       "7   -8.004027  13.243171          Heike Brehmer  CDU/CSU\n",
       "8  -11.573202  12.292979        Ralph Brinkhaus  CDU/CSU\n",
       "9  -22.542456   8.436888        Gitta Connemann  CDU/CSU\n",
       "10 -22.885401   7.864122     Alexander Dobrindt  CDU/CSU\n",
       "11 -15.305052   7.424417         Enak Ferlemann  CDU/CSU\n",
       "12 -10.018403  13.104864  Hans-Peter Friedrich   CDU/CSU\n",
       "13 -22.776737   7.572156        Michael Frieser  CDU/CSU\n",
       "14 -22.866026   7.652230         Ingo Gädechens  CDU/CSU\n",
       "15 -22.789906   7.288208         Thomas Gebhart  CDU/CSU\n",
       "16 -24.229965   6.806122          Hermann Gröhe  CDU/CSU\n",
       "17 -24.341354   7.229994  Michael Grosse-Brömer  CDU/CSU\n",
       "18 -15.909221  10.462670          Markus Grübel  CDU/CSU\n",
       "19 -19.414463   6.427108          Manfred Grund  CDU/CSU"
      ]
     },
     "execution_count": 10,
     "metadata": {},
     "output_type": "execute_result"
    }
   ],
   "source": [
    "df_mapping = pd.DataFrame(mapping, columns=[\"x\", \"y\"])\n",
    "df_mapping[\"name\"] = df[\"Vorname\"] + \" \" + df[\"Name\"]\n",
    "df_mapping[\"party\"] = df[\"Fraktion/Gruppe\"]\n",
    "df_mapping.head(20)\n"
   ]
  },
  {
   "cell_type": "code",
   "execution_count": 11,
   "metadata": {},
   "outputs": [],
   "source": [
    "colors = {\n",
    "    \"AfD\": '#009ee0',\n",
    "    \"FDP\": '#ffff00',\n",
    "    \"CDU/CSU\": '#000000',\n",
    "    \"SPD\": '#E3000F',\n",
    "    \"BÜNDNIS`90/DIE GRÜNEN\": '#46962b',\n",
    "    \"DIE LINKE.\": '#BE3075',\n",
    "    \"Fraktionslos\": \"#333333\"\n",
    "}\n"
   ]
  },
  {
   "cell_type": "code",
   "execution_count": 12,
   "metadata": {},
   "outputs": [
    {
     "data": {
      "image/png": "[encoded data removed]",
      "text/plain": [
       "<Figure size 640x480 with 1 Axes>"
      ]
     },
     "metadata": {},
     "output_type": "display_data"
    },
    {
     "data": {
      "text/plain": [
       "<ggplot: (165654379204)>"
      ]
     },
     "execution_count": 12,
     "metadata": {},
     "output_type": "execute_result"
    }
   ],
   "source": [
    "ggplot(df_mapping, aes(x=\"x\", y=\"y\", label=\"name\")) + geom_point(aes(colour=\"party\")) + scale_color_manual(values=colors)\n"
   ]
  }
 ],
 "metadata": {
  "interpreter": {
   "hash": "96eb50e1d44aed467dc8f759cb08c32fbfa9babcf79c554e2d0e5feb04653a10"
  },
  "kernelspec": {
   "display_name": "Python 3.9.7 ('base')",
   "language": "python",
   "name": "python3"
  },
  "language_info": {
   "codemirror_mode": {
    "name": "ipython",
    "version": 3
   },
   "file_extension": ".py",
   "mimetype": "text/x-python",
   "name": "python",
   "nbconvert_exporter": "python",
   "pygments_lexer": "ipython3",
   "version": "3.9.7"
  },
  "orig_nbformat": 4
 },
 "nbformat": 4,
 "nbformat_minor": 2
}
